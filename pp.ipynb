{
 "cells": [
  {
   "cell_type": "code",
   "execution_count": 33,
   "metadata": {
    "scrolled": true
   },
   "outputs": [
    {
     "name": "stdout",
     "output_type": "stream",
     "text": [
      "[[(0, 2), (1, 1)], [(0, 1), (1, 2)], [(0, 2), (1, 2)], [(2, 1), (3, 1)], [(2, 1), (3, 2)], [(2, 2), (3, 2)]]\n",
      "[(0, '0.458*\"bbb\" + 0.458*\"aaa\"'), (1, '0.499*\"vvv\" + 0.408*\"uuu\"')]\n"
     ]
    }
   ],
   "source": [
    "import nltk\n",
    "import string\n",
    "import gensim\n",
    "from gensim import corpora\n",
    "\n",
    "doc1 = \"aaa bbb aaa\"\n",
    "doc2 = \"bbb aaa bbb\"\n",
    "doc3 = \"aaa bbb bbb aaa\"\n",
    "doc4 = \"uuu vvv\"\n",
    "doc5 = \"uuu vvv vvv\"\n",
    "doc6 = \"uuu vvv vvv uuu\"\n",
    "\n",
    "doc_complete = [doc1, doc2, doc3, doc4, doc5, doc6]\n",
    "doc_clean = [doc.split() for doc in doc_complete]    \n",
    "\n",
    "dictionary = corpora.Dictionary(doc_clean)\n",
    "doc_term_matrix = [dictionary.doc2bow(doc) for doc in doc_clean]\n",
    "\n",
    "print(doc_term_matrix)\n",
    "\n",
    "Lda = gensim.models.ldamodel.LdaModel\n",
    "ldamodel = Lda(doc_term_matrix, num_topics=2, id2word = dictionary, passes=50)\n",
    "print(ldamodel.print_topics(num_topics=2, num_words=2))"
   ]
  },
  {
   "cell_type": "code",
   "execution_count": 38,
   "metadata": {},
   "outputs": [
    {
     "name": "stdout",
     "output_type": "stream",
     "text": [
      "[['peanut', 'butter', 'sandwich', 'breakfast'], ['like', 'eat', 'almond', 'peanut', 'walnut'], ['neighbor', 'got', 'little', 'dog', 'yesterday'], ['cat', 'dog', 'mortal', 'enemy'], ['feed', 'peanut', 'dog']]\n",
      "[[(0, 1), (1, 1), (2, 1), (3, 1)], [(2, 1), (4, 1), (5, 1), (6, 1), (7, 1)], [(8, 1), (9, 1), (10, 1), (11, 1), (12, 1)], [(8, 1), (13, 1), (14, 1), (15, 1)], [(2, 1), (8, 1), (16, 1)]]\n",
      "[(0, '0.178*\"dog\" + 0.077*\"yesterday\" + 0.077*\"neighbor\"'), (1, '0.180*\"peanut\" + 0.081*\"almond\" + 0.081*\"walnut\"')]\n",
      "^\n",
      "['0' '0.178*\"dog\" + 0.077*\"yesterday\" + 0.077*\"neighbor\"']\n"
     ]
    },
    {
     "name": "stderr",
     "output_type": "stream",
     "text": [
      "[nltk_data] Downloading package stopwords to\n",
      "[nltk_data]     C:\\Users\\Asus\\AppData\\Roaming\\nltk_data...\n",
      "[nltk_data]   Package stopwords is already up-to-date!\n",
      "[nltk_data] Downloading package wordnet to\n",
      "[nltk_data]     C:\\Users\\Asus\\AppData\\Roaming\\nltk_data...\n",
      "[nltk_data]   Package wordnet is already up-to-date!\n"
     ]
    }
   ],
   "source": [
    "import nltk\n",
    "import numpy as np\n",
    "nltk.download('stopwords')\n",
    "nltk.download('wordnet')\n",
    "from nltk.corpus import stopwords \n",
    "from nltk.stem.wordnet import WordNetLemmatizer\n",
    "import string\n",
    "import gensim\n",
    "from gensim import corpora\n",
    "\n",
    "doc1 = \"I had a peanut butter sandwich for breakfast.\"\n",
    "doc2 = \"I like to eat almonds, peanuts, and walnuts.\"\n",
    "doc3 = \"My neighbor got a little dog yesterday.\"\n",
    "doc4 = \"Cats and dogs are mortal enemies.\"\n",
    "doc5 = \"You mustn't feed peanuts to your dog.\"\n",
    "\n",
    "doc_complete = [doc1, doc2, doc3, doc4, doc5]\n",
    "\n",
    "# set of stopwords\n",
    "stop = set(stopwords.words('english'))\n",
    "exclude = set(string.punctuation) \n",
    "lemma = WordNetLemmatizer()\n",
    "\n",
    "def clean(doc):\n",
    "    stop_free = \" \".join([i for i in doc.lower().split() if i not in stop])\n",
    "    punc_free = ''.join(ch for ch in stop_free if ch not in exclude)\n",
    "    normalized = \" \".join(lemma.lemmatize(word) for word in punc_free.split())\n",
    "    return normalized\n",
    "\n",
    "doc_clean = [clean(doc).split() for doc in doc_complete]    \n",
    "print(doc_clean)\n",
    "\n",
    "dictionary = corpora.Dictionary(doc_clean)\n",
    "doc_term_matrix = [dictionary.doc2bow(doc) for doc in doc_clean]\n",
    "\n",
    "print(doc_term_matrix)\n",
    "\n",
    "Lda = gensim.models.ldamodel.LdaModel\n",
    "ldamodel = Lda(doc_term_matrix, num_topics=2, id2word = dictionary, passes=50)\n",
    "print(ldamodel.print_topics(num_topics=2, num_words=3))\n",
    "\n",
    "#Jensen Shannon Divergence\n",
    "print('^')\n",
    "p = np.array(ldamodel.print_topics(num_topics=2, num_words=3)[0])\n",
    "print (p)"
   ]
  },
  {
   "cell_type": "code",
   "execution_count": null,
   "metadata": {},
   "outputs": [],
   "source": []
  }
 ],
 "metadata": {
  "kernelspec": {
   "display_name": "Python 3",
   "language": "python",
   "name": "python3"
  },
  "language_info": {
   "codemirror_mode": {
    "name": "ipython",
    "version": 3
   },
   "file_extension": ".py",
   "mimetype": "text/x-python",
   "name": "python",
   "nbconvert_exporter": "python",
   "pygments_lexer": "ipython3",
   "version": "3.6.9"
  }
 },
 "nbformat": 4,
 "nbformat_minor": 2
}
